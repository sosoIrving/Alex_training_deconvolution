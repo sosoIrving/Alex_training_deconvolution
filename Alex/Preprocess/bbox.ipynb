{
 "cells": [
  {
   "cell_type": "code",
   "execution_count": 1,
   "metadata": {},
   "outputs": [
    {
     "name": "stdout",
     "output_type": "stream",
     "text": [
      "processing 1000/1000\r"
     ]
    }
   ],
   "source": [
    "import xml.etree.ElementTree as ET\n",
    "import os\n",
    "\n",
    "xmlRootDir = '/HardDisk/Irving/ILSVRC2012/bbox/'\n",
    "dirs = os.listdir(xmlRootDir)\n",
    "dirs.sort()\n",
    "files = os.listdir(xmlRootDir+dirs[0]+'/')\n",
    "\n",
    "\n",
    "def parseXML(filename):\n",
    "    bbox = [[], [], [], []]\n",
    "    tree = ET.parse(filename)\n",
    "    root = tree.getroot()\n",
    "    size = root.find('size')\n",
    "    width = float(size.find('width').text)\n",
    "    height = float(size.find('height').text)\n",
    "    for node in root.iter(\"object\"):\n",
    "        bndbox = node.find('bndbox')\n",
    "        xmin = max(float(bndbox.find('xmin').text) / width, 0.0)\n",
    "        ymin = max(float(bndbox.find('ymin').text) / height, 0.0)\n",
    "        xmax = min(float(bndbox.find('xmax').text) / width, 1.0)\n",
    "        ymax = min(float(bndbox.find('ymax').text) / height, 1.0)\n",
    "        bbox[0].append(xmin)\n",
    "        bbox[1].append(ymin)\n",
    "        bbox[2].append(xmax)\n",
    "        bbox[3].append(ymax)\n",
    "    return bbox\n",
    "\n",
    "\n",
    "bboxfile = open('bbox_train.csv', 'w')\n",
    "content = ''\n",
    "i = 0\n",
    "for folder in dirs:\n",
    "    i += 1\n",
    "    folderpath = xmlRootDir + folder + '/'\n",
    "    files = os.listdir(folderpath)\n",
    "    \n",
    "    for xmlfile in files:\n",
    "        bbox = parseXML(folderpath + xmlfile)\n",
    "        content += xmlfile\n",
    "        for j in range(4):\n",
    "            content += ',' + ';'.join([str(x) for x in bbox[j]])\n",
    "        content += '\\n'\n",
    "    print(\"processing %i/1000\\r\" % i, end=\"\")\n",
    "bboxfile.writelines(content)\n",
    "bboxfile.close()"
   ]
  },
  {
   "cell_type": "code",
   "execution_count": null,
   "metadata": {},
   "outputs": [],
   "source": []
  }
 ],
 "metadata": {
  "kernelspec": {
   "display_name": "Python 3",
   "language": "python",
   "name": "python3"
  },
  "language_info": {
   "codemirror_mode": {
    "name": "ipython",
    "version": 3
   },
   "file_extension": ".py",
   "mimetype": "text/x-python",
   "name": "python",
   "nbconvert_exporter": "python",
   "pygments_lexer": "ipython3",
   "version": "3.7.3"
  }
 },
 "nbformat": 4,
 "nbformat_minor": 2
}
